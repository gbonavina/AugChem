{
 "cells": [
  {
   "cell_type": "code",
   "execution_count": 22,
   "metadata": {},
   "outputs": [],
   "source": [
    "from rdkit import Chem\n",
    "from rdkit import RDLogger\n",
    "import numpy as np\n",
    "import augchem\n",
    "\n",
    "RDLogger.DisableLog('rdApp.*')"
   ]
  },
  {
   "cell_type": "code",
   "execution_count": 23,
   "metadata": {},
   "outputs": [
    {
     "name": "stdout",
     "output_type": "stream",
     "text": [
      "[[['C' 'C']]\n",
      "\n",
      " [['N' 'N']]\n",
      "\n",
      " [['O' 'O']]\n",
      "\n",
      " [['C#C' 'C#C']]\n",
      "\n",
      " [['C#N' 'C#N']]\n",
      "\n",
      " [['C=O' 'C=O']]\n",
      "\n",
      " [['CC' 'CC']]\n",
      "\n",
      " [['CO' 'CO']]\n",
      "\n",
      " [['CC#C' 'CC#C']]\n",
      "\n",
      " [['CC#N' 'CC#N']]\n",
      "\n",
      " [['CC=O' 'CC=O']]\n",
      "\n",
      " [['NC=O' 'NC=O']]\n",
      "\n",
      " [['CCC' 'CCC']]\n",
      "\n",
      " [['CCO' 'CCO']]\n",
      "\n",
      " [['COC' 'COC']]\n",
      "\n",
      " [['C1CC1' 'C1CC1']]\n",
      "\n",
      " [['C1CO1' 'C1CO1']]\n",
      "\n",
      " [['CC(C)=O' 'CC(=O)C']]\n",
      "\n",
      " [['CC(N)=O' 'CC(=O)N']]\n",
      "\n",
      " [['NC(N)=O' 'NC(=O)N']]\n",
      "\n",
      " [['CC(C)C' 'CC(C)C']]\n",
      "\n",
      " [['CC(C)O' 'CC(C)O']]\n",
      "\n",
      " [['C#CC#C' 'C(#C)C#C']]\n",
      "\n",
      " [['C#CC#N' 'C(#C)C#N']]\n",
      "\n",
      " [['N#CC#N' 'N#CC#N']]\n",
      "\n",
      " [['O=CC#C' 'O=CC#C']]\n",
      "\n",
      " [['O=CC#N' 'O=CC#N']]\n",
      "\n",
      " [['O=CC=O' 'O=CC=O']]\n",
      "\n",
      " [['CC#CC' 'CC#CC']]\n",
      "\n",
      " [['CCC#C' 'CCC#C']]\n",
      "\n",
      " [['CCC#N' 'CCC#N']]\n",
      "\n",
      " [['NCC#N' 'NCC#N']]\n",
      "\n",
      " [['OCC#C' 'OCC#C']]\n",
      "\n",
      " [['OCC#N' 'OCC#N']]\n",
      "\n",
      " [['CCC=O' 'CCC=O']]\n",
      "\n",
      " [['CNC=O' 'CNC=O']]\n",
      "\n",
      " [['COC=O' 'COC=O']]\n",
      "\n",
      " [['OCC=O' 'OCC=O']]\n",
      "\n",
      " [['CCCC' 'CCCC']]\n",
      "\n",
      " [['CCCO' 'CCCO']]\n",
      "\n",
      " [['CCOC' 'CCOC']]\n",
      "\n",
      " [['OCCO' 'OCCO']]\n",
      "\n",
      " [['CC1CC1' 'CC1CC1']]\n",
      "\n",
      " [['CC1CO1' 'C[C@H]1CO1']]\n",
      "\n",
      " [['CN1CC1' 'CN1CC1']]\n",
      "\n",
      " [['OC1CC1' 'OC1CC1']]\n",
      "\n",
      " [['C1CCC1' 'C1CCC1']]\n",
      "\n",
      " [['C1COC1' 'C1COC1']]\n",
      "\n",
      " [['CC(C)=NO' 'CC(=NO)C']]\n",
      "\n",
      " [['N1C=CC=C1' '[nH]1cccc1']]]\n"
     ]
    }
   ],
   "source": [
    "loader = augchem.Loader('QM9')\n",
    "data = loader.loadDataset('QM9', [])\n",
    "data = np.array(data)\n",
    "\n",
    "print(data)"
   ]
  },
  {
   "cell_type": "code",
   "execution_count": 24,
   "metadata": {},
   "outputs": [
    {
     "name": "stdout",
     "output_type": "stream",
     "text": [
      "Valid molecules: 50\n",
      "Invalid molecules: 0\n"
     ]
    }
   ],
   "source": [
    "valid_mols, invalid_mols = loader.verifyMolecules(data)\n",
    "print('Valid molecules:', len(valid_mols))\n",
    "print('Invalid molecules:', len(invalid_mols))"
   ]
  },
  {
   "cell_type": "code",
   "execution_count": 32,
   "metadata": {},
   "outputs": [
    {
     "name": "stdout",
     "output_type": "stream",
     "text": [
      "Augmented dataset: 258\n",
      "Augmented dataset: [['C'], ['N'], ['O'], ['C#C'], ['C#N', 'N#C'], 'O=C', ['O=C', 'C=O'], ['CC'], 'OC', ['CO', 'OC'], 'CC[M]C', ['CC#C', 'C#CC', 'C(#C)C'], '[M]C#C', 'CC[M]N', 'CN#C', ['N#CC', 'C(C)#N', 'C(#N)C', 'CC#N'], 'C[M]#N', 'CC#', ['N#CC', 'C(#N)C', 'CC#N'], 'CC=[M]', ['CC=O', 'C(C)=O', 'O=CC', 'C(=O)C'], 'C[M]=O', 'CO=C', ['CC=O', 'C(C)=O', 'O=CC'], '[M]C=O', 'N=O', 'CN=O', ['C(N)=O', 'O=CN', 'C(=O)N'], 'N[M]=O', ['NC=O', 'O=CN', 'C(=O)N'], ['CCC', 'C(C)C'], ['C(C)C', 'CCC'], ['CCO', 'OCC', 'C(C)O'], ['CCO', 'OCC', 'C(O)C'], ['COC', 'O(C)C'], ['O(C)C', 'COC'], 'CCC11', ['C1CC1'], ['C1OC1', 'O1CC1', 'C1CO1'], 'C[M](C)=O', ['CC(=O)C', 'C(=O)(C)C', 'O=C(C)C', 'C(C)(C)=O'], 'CC(=O)[M]', 'CO(=C)C', ['C(=O)(C)C', 'C(C)(=O)C', 'O=C(C)C', 'C(C)(C)=O', 'CC(C)=O', 'CC(=O)C'], 'CC[M]=O', 'CC(N)=', ['CC(=O)N', 'C(=O)(C)N', 'O=C(N)C', 'NC(=O)C', 'C(C)(N)=O', 'C(C)(=O)N', 'O=C(C)N'], 'C[M](=O)N', 'C(=O)N', 'CC(=O)N', ['CC(=O)N', 'NC(C)=O', 'CC(N)=O', 'C(=O)(N)C', 'O=C(N)C', 'C(C)(=O)N', 'O=C(C)N'], 'N[M](N)=O', 'NC(N)=', ['NC(=O)N', 'C(=O)(N)N', 'NC(N)=O', 'O=C(N)N'], '[M]C(=O)N', 'NC(=O)', 'NN(=O)C', ['C(N)(=O)N', 'NC(N)=O', 'C(=O)(N)N', 'O=C(N)N', 'NC(=O)N'], 'CC(C)[M]', 'C(C)C', ['C(C)(C)C', 'CC(C)C'], 'CC(C)', '[M]C(C)O', ['C(C)(O)C', 'OC(C)C', 'CC(C)O', 'CC(O)C'], ['C(C)(O)C', 'C(O)(C)C', 'OC(C)C', 'CC(O)C', 'C(C)(C)O', 'CC(C)O'], 'C#C[M]#C', 'C#C#C', ['C(#C)C#C', 'C#CC#C', 'C(C#C)#C'], 'C[M]C#C', 'C(#C)C#', 'C(#C)C#C', 'C[M]CC#N', 'C#CC#', ['N#CC#C', 'C(#C)C#N', 'C(#N)C#C', 'C(C#N)#C', 'C#CC#N'], 'C[M]C#N', 'C(#C)C#N', ['N#CC#C', 'C(C#C)#N', 'C(#C)C#N', 'C#CC#N'], 'N#CC[M]N', 'N#C#N', 'N#NC#C', ['N#CC#N', 'C(C#N)#N', 'C(#N)C#N'], 'N[M]CC#N', 'N#CCN', 'N#CN#C', ['N#CC#N', 'C(#N)C#N'], 'O[M]CC#C', '=CC#C', 'C=CO#C', ['C(C#C)=O', 'C(C=O)#C', 'C(=O)C#C', 'C#CC=O', 'O=CC#C'], 'O=[M]C#C', 'O=CC#', ['C(#C)C=O', 'C(C#C)=O', 'C(C=O)#C', 'C#CC=O', 'O=CC#C'], 'O=[M]C#N', 'N=CC#O', ['N#CC=O', 'C(=O)C#N', 'C(C=O)#N', 'O=CC#N'], 'O=CC[M]N', 'C=CO#N', ['O=CC#N', 'C(C=O)#N', 'C(C#N)=O', 'N#CC=O', 'C(#N)C=O'], 'O=[M]C=O', 'O=C=O', ['C(C=O)=O', 'O=CC=O', 'C(=O)C=O'], 'O[M]CC=O', 'O=CCO', ['O=CC=O', 'C(C=O)=O'], 'C[M]#CC', 'C#CC', ['C(#CC)C', 'C(C)#CC', 'CC#CC'], 'CC[M]#C', ['C(C)C#C', 'C#CCC', 'C(#C)CC', 'CCC#C'], '[M]CC#C', ['C#CCC', 'C(C#C)C', 'C(#C)CC', 'C(CC)#C'], 'CCC#[M]', ['C(C#N)C', 'N#CCC', 'C(#N)CC', 'CCC#N', 'C(CC)#N'], 'NCC#[M]', 'NC#N', ['N#CCN', 'C(N)C#N', 'C(#N)CN', 'NCC#N'], 'NCC#', ['C(N)C#N', 'C(CN)#N', 'C(C#N)N', 'NCC#N', 'N#CCN'], 'O[M]C#C', 'OC#C', 'CCC#O', ['C(#C)CO', 'C#CCO', 'OCC#C', 'C(CO)#C', 'C(O)C#C'], 'OCC#', ['C#CCO', 'OCC#C', 'C(C#C)O', 'C(CO)#C'], 'OC[M]#N', 'OC#N', ['C(C#N)O', 'OCC#N', 'C(CO)#N', 'N#CCO', 'C(#N)CO'], '[M]CC#N', ['C(C#N)O', 'OCC#N', 'N#CCO', 'C(O)C#N'], 'C[M]C=O', 'OCC=C', ['C(C)C=O', 'O=CCC', 'C(C=O)C', 'CCC=O', 'C(CC)=O', 'C(=O)CC'], 'CN[M]=O', 'CNCO', 'CNO=C', ['O=CNC', 'N(C=O)C', 'C(NC)=O', 'N(C)C=O', 'C(=O)NC'], 'CNC=[M]', 'CNC=', ['O=CNC', 'N(C=O)C', 'CNC=O', 'C(NC)=O', 'N(C)C=O', 'C(=O)NC'], 'CO=O', 'CCO=O', ['O(C=O)C', 'O=COC', 'O(C)C=O', 'C(OC)=O', 'COC=O'], 'COC[M]O', ['O=COC', 'O(C)C=O', 'C(OC)=O', 'C(=O)OC', 'COC=O'], 'OCC=[M]', 'OC=O', ['C(O)C=O', 'C(=O)CO', 'O=CCO', 'OCC=O'], ['C(O)C=O', 'OCC=O', 'C(=O)CO', 'O=CCO'], 'C[M]CC', ['C(CC)C', 'C(C)CC', 'CCCC'], 'CC[M]O', ['CCCO', 'C(CO)C', 'C(O)CC', 'C(C)CO', 'OCCC'], ['C(CC)O', 'CCCO', 'C(CO)C', 'C(O)CC', 'OCCC'], ['COCC', 'C(OC)C', 'O(CC)C', 'O(C)CC', 'CCOC'], 'C[M]OC', 'COCC', ['COCC', 'C(OC)C', 'CCOC'], 'OCC[M]', 'OCC', 'COCO', ['C(CO)O', 'C(O)CO', 'OCCO'], 'OCO', ['C(O)CO', 'C(CO)O', 'OCCO'], 'C[M]CC1', 'CCC1', ['C1(CC1)C', 'C1CC1C', 'C1(C)CC1', 'CC1CC1', 'C1C(C)C1', 'C1C(C1)C'], ['C1(CC1)C', 'C1CC1C', 'CC1CC1', 'C1C(C)C1', 'C1C(C1)C'], 'CC1C[M]', 'CCO1', ['C1(OC1)C', 'C1(C)OC1', 'C1(CO1)C', 'C1OC1C', 'C1(C)CO1', 'CC1OC1', 'CC1CO1'], 'C[C@H]1C[M]', 'C[C@1]1COH', ['C[C@@H]1OC1', 'O1[C@H](C1)C', 'O1C[C@@H]1C', 'C1O[C@H]1C', '[C@@H]1(C)OC1', 'C[C@H]1CO1', 'C1[C@@H](O1)C'], 'CN1C', 'CNCC11', ['CN1CC1', 'N1(CC1)C', 'C1CN1C', 'C1N(C)C1'], ['C1CN1C', 'N1(CC1)C', 'CN1CC1', 'C1N(C1)C', 'C1N(C)C1'], 'O[M]CC1', 'OC1C', ['C1C(C1)O', 'OC1CC1', 'C1CC1O', 'C1C(O)C1'], 'OC1C[M]', 'OCC1C1', ['OC1CC1', 'C1(CC1)O', 'C1(O)CC1', 'C1C(C1)O', 'C1CC1O'], 'C1[M]CC1', 'C1CC', ['C1CCC1'], '1CCCC1', 'C1C[M]C1', 'C1OC1', 'CC1OC1', ['C1COC1', 'C1OCC1', 'O1CCC1', 'C1CCO1'], 'C1[M]OC1', ['C1COC1', 'C1OCC1', 'C1CCO1'], 'CC(C)=[M]O', 'C(C)=NO', 'CC(N)=CO', ['CC(=NO)C', 'ON=C(C)C', 'CC(C)=NO', 'N(O)=C(C)C', 'N(=C(C)C)O', 'C(=NO)(C)C', 'C(C)(C)=NO'], 'CC(=NO)[M]', 'CN(=CO)C', ['ON=C(C)C', 'N(O)=C(C)C', 'CC(=NO)C', 'C(C)(C)=NO', 'C(=NO)(C)C'], 'N1C[M]CC[M]C1', 'N1=C=C1', 'N1C=1C=CC', ['c1[nH]ccc1', '[nH]1cccc1', 'c1cc[nH]c1', 'c1ccc[nH]1', 'c1c[nH]cc1'], '[nH][M]cccc1', '1cccc1', '[nH]1cccc1', ['c1cc[nH]c1', 'c1ccc[nH]1', 'c1[nH]ccc1', 'c1c[nH]cc1']]\n"
     ]
    }
   ],
   "source": [
    "aug = augchem.Augmentator(seed=432)\n",
    "\n",
    "augment_set = []\n",
    "\n",
    "# Augment the dataset\n",
    "for item in data:\n",
    "    for unit in item:\n",
    "        for smiles in unit:\n",
    "            mol = aug.mask(smiles, mask_ratio=0.3)\n",
    "\n",
    "            if mol not in valid_mols and mol not in augment_set:\n",
    "                augment_set.append(mol)\n",
    "\n",
    "            mol = aug.delete(smiles, delete_ratio=0.3)\n",
    "\n",
    "            if mol not in valid_mols and mol not in augment_set:\n",
    "                augment_set.append(mol)\n",
    "\n",
    "            mol = aug.swap(smiles)\n",
    "\n",
    "            if mol not in valid_mols and mol not in augment_set:\n",
    "                augment_set.append(mol)\n",
    "\n",
    "            mol = aug.enumerateSmiles(smiles)\n",
    "\n",
    "            if mol not in valid_mols and mol not in augment_set:\n",
    "                augment_set.append(mol)\n",
    "\n",
    "print('Augmented dataset:', len(augment_set) + len(data))\n",
    "print('Augmented dataset:', augment_set)\n"
   ]
  }
 ],
 "metadata": {
  "kernelspec": {
   "display_name": "Python 3",
   "language": "python",
   "name": "python3"
  },
  "language_info": {
   "codemirror_mode": {
    "name": "ipython",
    "version": 3
   },
   "file_extension": ".py",
   "mimetype": "text/x-python",
   "name": "python",
   "nbconvert_exporter": "python",
   "pygments_lexer": "ipython3",
   "version": "3.11.9"
  }
 },
 "nbformat": 4,
 "nbformat_minor": 2
}
