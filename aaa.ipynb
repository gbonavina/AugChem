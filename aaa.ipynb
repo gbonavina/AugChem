{
 "cells": [
  {
   "cell_type": "code",
   "execution_count": null,
   "id": "810ea24a",
   "metadata": {},
   "outputs": [],
   "source": [
    "from augchem import Augmentator\n",
    "import pandas as pd"
   ]
  },
  {
   "cell_type": "code",
   "execution_count": null,
   "id": "977db0da",
   "metadata": {},
   "outputs": [
    {
     "name": "stderr",
     "output_type": "stream",
     "text": [
      "🧪 Augmenting SMILES:  38%|███▊      | 15120/40165 [00:11<00:21, 1175.61mol/s]"
     ]
    }
   ],
   "source": [
    "aug = Augmentator(seed=42)\n",
    "\n",
    "qm9_augmented = aug.SMILES.augment_data(dataset=\"QM9.csv\",\n",
    "                                        col_to_augment=\"SMILES_1\",\n",
    "                                        property_col=\"Property_0\",\n",
    "                                        augmentation_methods=[\"fusion\", \"enumeration\"],  \n",
    "                                        mask_ratio=0.1,\n",
    "                                        delete_ratio=0.3,\n",
    "                                        augment_percentage=0.3)\n",
    "\n",
    "qm9_augmented.tail()"
   ]
  }
 ],
 "metadata": {
  "kernelspec": {
   "display_name": "Python 3",
   "language": "python",
   "name": "python3"
  },
  "language_info": {
   "codemirror_mode": {
    "name": "ipython",
    "version": 3
   },
   "file_extension": ".py",
   "mimetype": "text/x-python",
   "name": "python",
   "nbconvert_exporter": "python",
   "pygments_lexer": "ipython3",
   "version": "3.12.10"
  }
 },
 "nbformat": 4,
 "nbformat_minor": 5
}
