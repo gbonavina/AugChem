{
 "cells": [
  {
   "cell_type": "code",
   "execution_count": 1,
   "metadata": {},
   "outputs": [
    {
     "name": "stdout",
     "output_type": "stream",
     "text": [
      "Generated new 26783 SMILES\n"
     ]
    },
    {
     "data": {
      "text/html": [
       "<div>\n",
       "<style scoped>\n",
       "    .dataframe tbody tr th:only-of-type {\n",
       "        vertical-align: middle;\n",
       "    }\n",
       "\n",
       "    .dataframe tbody tr th {\n",
       "        vertical-align: top;\n",
       "    }\n",
       "\n",
       "    .dataframe thead th {\n",
       "        text-align: right;\n",
       "    }\n",
       "</style>\n",
       "<table border=\"1\" class=\"dataframe\">\n",
       "  <thead>\n",
       "    <tr style=\"text-align: right;\">\n",
       "      <th></th>\n",
       "      <th>SMILES</th>\n",
       "      <th>Property_0</th>\n",
       "      <th>parent_idx</th>\n",
       "    </tr>\n",
       "  </thead>\n",
       "  <tbody>\n",
       "    <tr>\n",
       "      <th>0</th>\n",
       "      <td>['CCC(O)C(=O)C(N)=O', 'CC[C@@H](O)C(=O)C(=O)N']</td>\n",
       "      <td>2.64082</td>\n",
       "      <td>NaN</td>\n",
       "    </tr>\n",
       "    <tr>\n",
       "      <th>1</th>\n",
       "      <td>['CC1=NCC(O1)C=O', 'CC1=NC[C@@H](O1)C=O']</td>\n",
       "      <td>3.62733</td>\n",
       "      <td>NaN</td>\n",
       "    </tr>\n",
       "    <tr>\n",
       "      <th>2</th>\n",
       "      <td>['CC1=CNC(OC=O)=N1', 'Cc1c[nH]c(OC=O)n1']</td>\n",
       "      <td>4.61509</td>\n",
       "      <td>NaN</td>\n",
       "    </tr>\n",
       "    <tr>\n",
       "      <th>3</th>\n",
       "      <td>['N=CNC(=O)NCC=O', 'N=CNC(=O)NCC=O']</td>\n",
       "      <td>6.9485</td>\n",
       "      <td>NaN</td>\n",
       "    </tr>\n",
       "    <tr>\n",
       "      <th>4</th>\n",
       "      <td>['CCC1CC1C(=O)NC', 'CC[C@H]1C[C@H]1C(=O)NC']</td>\n",
       "      <td>3.4102</td>\n",
       "      <td>NaN</td>\n",
       "    </tr>\n",
       "  </tbody>\n",
       "</table>\n",
       "</div>"
      ],
      "text/plain": [
       "                                            SMILES Property_0  parent_idx\n",
       "0  ['CCC(O)C(=O)C(N)=O', 'CC[C@@H](O)C(=O)C(=O)N']    2.64082         NaN\n",
       "1        ['CC1=NCC(O1)C=O', 'CC1=NC[C@@H](O1)C=O']    3.62733         NaN\n",
       "2        ['CC1=CNC(OC=O)=N1', 'Cc1c[nH]c(OC=O)n1']    4.61509         NaN\n",
       "3             ['N=CNC(=O)NCC=O', 'N=CNC(=O)NCC=O']     6.9485         NaN\n",
       "4     ['CCC1CC1C(=O)NC', 'CC[C@H]1C[C@H]1C(=O)NC']     3.4102         NaN"
      ]
     },
     "execution_count": 1,
     "metadata": {},
     "output_type": "execute_result"
    }
   ],
   "source": [
    "from augchem import Augmentator\n",
    "import pandas as pd\n",
    "\n",
    "aug = Augmentator()\n",
    "\n",
    "new_df = aug.SMILES.augment_data(dataset=\"QM9.csv\", augmentation_methods=[\"fusion\", \"enumeration\"])\n",
    "\n",
    "new_df.head()"
   ]
  },
  {
   "cell_type": "code",
   "execution_count": 2,
   "metadata": {},
   "outputs": [
    {
     "data": {
      "text/html": [
       "<div>\n",
       "<style scoped>\n",
       "    .dataframe tbody tr th:only-of-type {\n",
       "        vertical-align: middle;\n",
       "    }\n",
       "\n",
       "    .dataframe tbody tr th {\n",
       "        vertical-align: top;\n",
       "    }\n",
       "\n",
       "    .dataframe thead th {\n",
       "        text-align: right;\n",
       "    }\n",
       "</style>\n",
       "<table border=\"1\" class=\"dataframe\">\n",
       "  <thead>\n",
       "    <tr style=\"text-align: right;\">\n",
       "      <th></th>\n",
       "      <th>SMILES</th>\n",
       "      <th>Property_0</th>\n",
       "      <th>parent_idx</th>\n",
       "    </tr>\n",
       "  </thead>\n",
       "  <tbody>\n",
       "    <tr>\n",
       "      <th>160663</th>\n",
       "      <td>Nc1c[nH]cCCC</td>\n",
       "      <td>-</td>\n",
       "      <td>77627.0</td>\n",
       "    </tr>\n",
       "    <tr>\n",
       "      <th>160664</th>\n",
       "      <td>Nc1c[nH]1C#C</td>\n",
       "      <td>-</td>\n",
       "      <td>77627.0</td>\n",
       "    </tr>\n",
       "    <tr>\n",
       "      <th>160665</th>\n",
       "      <td>Nc1c[nH]c1C#</td>\n",
       "      <td>-</td>\n",
       "      <td>77627.0</td>\n",
       "    </tr>\n",
       "    <tr>\n",
       "      <th>160666</th>\n",
       "      <td>c1c[nH]c1CC#</td>\n",
       "      <td>-</td>\n",
       "      <td>77627.0</td>\n",
       "    </tr>\n",
       "    <tr>\n",
       "      <th>160667</th>\n",
       "      <td>c1cnc1C#C</td>\n",
       "      <td>-</td>\n",
       "      <td>77627.0</td>\n",
       "    </tr>\n",
       "  </tbody>\n",
       "</table>\n",
       "</div>"
      ],
      "text/plain": [
       "              SMILES Property_0  parent_idx\n",
       "160663  Nc1c[nH]cCCC          -     77627.0\n",
       "160664  Nc1c[nH]1C#C          -     77627.0\n",
       "160665  Nc1c[nH]c1C#          -     77627.0\n",
       "160666  c1c[nH]c1CC#          -     77627.0\n",
       "160667     c1cnc1C#C          -     77627.0"
      ]
     },
     "execution_count": 2,
     "metadata": {},
     "output_type": "execute_result"
    }
   ],
   "source": [
    "new_df.tail()"
   ]
  },
  {
   "cell_type": "code",
   "execution_count": 3,
   "metadata": {},
   "outputs": [
    {
     "data": {
      "text/plain": [
       "133885"
      ]
     },
     "execution_count": 3,
     "metadata": {},
     "output_type": "execute_result"
    }
   ],
   "source": [
    "data = pd.read_csv(\"QM9.csv\")\n",
    "len(data)"
   ]
  },
  {
   "cell_type": "code",
   "execution_count": 4,
   "metadata": {},
   "outputs": [
    {
     "data": {
      "text/plain": [
       "26783"
      ]
     },
     "execution_count": 4,
     "metadata": {},
     "output_type": "execute_result"
    }
   ],
   "source": [
    "len(new_df) - len(data)"
   ]
  }
 ],
 "metadata": {
  "kernelspec": {
   "display_name": "venv",
   "language": "python",
   "name": "python3"
  },
  "language_info": {
   "codemirror_mode": {
    "name": "ipython",
    "version": 3
   },
   "file_extension": ".py",
   "mimetype": "text/x-python",
   "name": "python",
   "nbconvert_exporter": "python",
   "pygments_lexer": "ipython3",
   "version": "3.12.3"
  }
 },
 "nbformat": 4,
 "nbformat_minor": 2
}
