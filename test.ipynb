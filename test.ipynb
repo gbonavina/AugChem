{
 "cells": [
  {
   "cell_type": "code",
   "execution_count": 1,
   "metadata": {},
   "outputs": [
    {
     "name": "stdout",
     "output_type": "stream",
     "text": [
      "Generated new 26786 SMILES\n"
     ]
    },
    {
     "data": {
      "application/vnd.microsoft.datawrangler.viewer.v0+json": {
       "columns": [
        {
         "name": "index",
         "rawType": "int64",
         "type": "integer"
        },
        {
         "name": "SMILES",
         "rawType": "object",
         "type": "string"
        },
        {
         "name": "Property_0",
         "rawType": "object",
         "type": "unknown"
        },
        {
         "name": "parent_idx",
         "rawType": "float64",
         "type": "float"
        }
       ],
       "conversionMethod": "pd.DataFrame",
       "ref": "978809b9-8dca-4c7e-a8d8-d2e6bbdaace8",
       "rows": [
        [
         "0",
         "['CNC(=O)C#C', 'CNC(=O)C#C']",
         "8.88595",
         null
        ],
        [
         "1",
         "['OC(C=O)C1CC2CC12', 'O[C@@H](C=O)[C@H]1C[C@H]2C[C@@H]12']",
         "3.54096",
         null
        ],
        [
         "2",
         "['CC1OC2CC1COC2', 'C[C@H]1O[C@@H]2C[C@H]1COC2']",
         "2.30676",
         null
        ],
        [
         "3",
         "['CC(NC=O)C1(C)CC1', 'C[C@@H](NC=O)C1(C)CC1']",
         "2.16386",
         null
        ],
        [
         "4",
         "['CCCC1CC(CC)C1', 'CCC[C@H]1C[C@@H](CC)C1']",
         "5.15429",
         null
        ]
       ],
       "shape": {
        "columns": 3,
        "rows": 5
       }
      },
      "text/html": [
       "<div>\n",
       "<style scoped>\n",
       "    .dataframe tbody tr th:only-of-type {\n",
       "        vertical-align: middle;\n",
       "    }\n",
       "\n",
       "    .dataframe tbody tr th {\n",
       "        vertical-align: top;\n",
       "    }\n",
       "\n",
       "    .dataframe thead th {\n",
       "        text-align: right;\n",
       "    }\n",
       "</style>\n",
       "<table border=\"1\" class=\"dataframe\">\n",
       "  <thead>\n",
       "    <tr style=\"text-align: right;\">\n",
       "      <th></th>\n",
       "      <th>SMILES</th>\n",
       "      <th>Property_0</th>\n",
       "      <th>parent_idx</th>\n",
       "    </tr>\n",
       "  </thead>\n",
       "  <tbody>\n",
       "    <tr>\n",
       "      <th>0</th>\n",
       "      <td>['CNC(=O)C#C', 'CNC(=O)C#C']</td>\n",
       "      <td>8.88595</td>\n",
       "      <td>NaN</td>\n",
       "    </tr>\n",
       "    <tr>\n",
       "      <th>1</th>\n",
       "      <td>['OC(C=O)C1CC2CC12', 'O[C@@H](C=O)[C@H]1C[C@H]...</td>\n",
       "      <td>3.54096</td>\n",
       "      <td>NaN</td>\n",
       "    </tr>\n",
       "    <tr>\n",
       "      <th>2</th>\n",
       "      <td>['CC1OC2CC1COC2', 'C[C@H]1O[C@@H]2C[C@H]1COC2']</td>\n",
       "      <td>2.30676</td>\n",
       "      <td>NaN</td>\n",
       "    </tr>\n",
       "    <tr>\n",
       "      <th>3</th>\n",
       "      <td>['CC(NC=O)C1(C)CC1', 'C[C@@H](NC=O)C1(C)CC1']</td>\n",
       "      <td>2.16386</td>\n",
       "      <td>NaN</td>\n",
       "    </tr>\n",
       "    <tr>\n",
       "      <th>4</th>\n",
       "      <td>['CCCC1CC(CC)C1', 'CCC[C@H]1C[C@@H](CC)C1']</td>\n",
       "      <td>5.15429</td>\n",
       "      <td>NaN</td>\n",
       "    </tr>\n",
       "  </tbody>\n",
       "</table>\n",
       "</div>"
      ],
      "text/plain": [
       "                                              SMILES Property_0  parent_idx\n",
       "0                       ['CNC(=O)C#C', 'CNC(=O)C#C']    8.88595         NaN\n",
       "1  ['OC(C=O)C1CC2CC12', 'O[C@@H](C=O)[C@H]1C[C@H]...    3.54096         NaN\n",
       "2    ['CC1OC2CC1COC2', 'C[C@H]1O[C@@H]2C[C@H]1COC2']    2.30676         NaN\n",
       "3      ['CC(NC=O)C1(C)CC1', 'C[C@@H](NC=O)C1(C)CC1']    2.16386         NaN\n",
       "4        ['CCCC1CC(CC)C1', 'CCC[C@H]1C[C@@H](CC)C1']    5.15429         NaN"
      ]
     },
     "execution_count": 1,
     "metadata": {},
     "output_type": "execute_result"
    }
   ],
   "source": [
    "from augchem import Augmentator\n",
    "import pandas as pd\n",
    "\n",
    "aug = Augmentator()\n",
    "\n",
    "new_df = aug.SMILES.augment_data(dataset=\"QM9.csv\", augmentation_methods=[\"fusion\", \"enumeration\"])\n",
    "\n",
    "new_df.head()"
   ]
  },
  {
   "cell_type": "code",
   "execution_count": 2,
   "metadata": {},
   "outputs": [
    {
     "data": {
      "application/vnd.microsoft.datawrangler.viewer.v0+json": {
       "columns": [
        {
         "name": "index",
         "rawType": "int64",
         "type": "integer"
        },
        {
         "name": "SMILES",
         "rawType": "object",
         "type": "string"
        },
        {
         "name": "Property_0",
         "rawType": "object",
         "type": "string"
        },
        {
         "name": "parent_idx",
         "rawType": "float64",
         "type": "float"
        }
       ],
       "conversionMethod": "pd.DataFrame",
       "ref": "7914dc04-107d-4814-9109-fee081e1ff7f",
       "rows": [
        [
         "160666",
         "C1C(C)NNC=N1",
         "-",
         "39096.0"
        ],
        [
         "160667",
         "C1N(C)C=NC=N",
         "-",
         "39096.0"
        ],
        [
         "160668",
         "C1CNC11=NN=1",
         "-",
         "39096.0"
        ],
        [
         "160669",
         "C1N(CC1=N=N1",
         "-",
         "39096.0"
        ],
        [
         "160670",
         "C1CC1)1NNC=N",
         "-",
         "39096.0"
        ]
       ],
       "shape": {
        "columns": 3,
        "rows": 5
       }
      },
      "text/html": [
       "<div>\n",
       "<style scoped>\n",
       "    .dataframe tbody tr th:only-of-type {\n",
       "        vertical-align: middle;\n",
       "    }\n",
       "\n",
       "    .dataframe tbody tr th {\n",
       "        vertical-align: top;\n",
       "    }\n",
       "\n",
       "    .dataframe thead th {\n",
       "        text-align: right;\n",
       "    }\n",
       "</style>\n",
       "<table border=\"1\" class=\"dataframe\">\n",
       "  <thead>\n",
       "    <tr style=\"text-align: right;\">\n",
       "      <th></th>\n",
       "      <th>SMILES</th>\n",
       "      <th>Property_0</th>\n",
       "      <th>parent_idx</th>\n",
       "    </tr>\n",
       "  </thead>\n",
       "  <tbody>\n",
       "    <tr>\n",
       "      <th>160666</th>\n",
       "      <td>C1C(C)NNC=N1</td>\n",
       "      <td>-</td>\n",
       "      <td>39096.0</td>\n",
       "    </tr>\n",
       "    <tr>\n",
       "      <th>160667</th>\n",
       "      <td>C1N(C)C=NC=N</td>\n",
       "      <td>-</td>\n",
       "      <td>39096.0</td>\n",
       "    </tr>\n",
       "    <tr>\n",
       "      <th>160668</th>\n",
       "      <td>C1CNC11=NN=1</td>\n",
       "      <td>-</td>\n",
       "      <td>39096.0</td>\n",
       "    </tr>\n",
       "    <tr>\n",
       "      <th>160669</th>\n",
       "      <td>C1N(CC1=N=N1</td>\n",
       "      <td>-</td>\n",
       "      <td>39096.0</td>\n",
       "    </tr>\n",
       "    <tr>\n",
       "      <th>160670</th>\n",
       "      <td>C1CC1)1NNC=N</td>\n",
       "      <td>-</td>\n",
       "      <td>39096.0</td>\n",
       "    </tr>\n",
       "  </tbody>\n",
       "</table>\n",
       "</div>"
      ],
      "text/plain": [
       "              SMILES Property_0  parent_idx\n",
       "160666  C1C(C)NNC=N1          -     39096.0\n",
       "160667  C1N(C)C=NC=N          -     39096.0\n",
       "160668  C1CNC11=NN=1          -     39096.0\n",
       "160669  C1N(CC1=N=N1          -     39096.0\n",
       "160670  C1CC1)1NNC=N          -     39096.0"
      ]
     },
     "execution_count": 2,
     "metadata": {},
     "output_type": "execute_result"
    }
   ],
   "source": [
    "new_df.tail()"
   ]
  },
  {
   "cell_type": "code",
   "execution_count": 3,
   "metadata": {},
   "outputs": [
    {
     "data": {
      "text/plain": [
       "133885"
      ]
     },
     "execution_count": 3,
     "metadata": {},
     "output_type": "execute_result"
    }
   ],
   "source": [
    "data = pd.read_csv(\"QM9.csv\")\n",
    "len(data)"
   ]
  },
  {
   "cell_type": "code",
   "execution_count": 4,
   "metadata": {},
   "outputs": [
    {
     "data": {
      "text/plain": [
       "26786"
      ]
     },
     "execution_count": 4,
     "metadata": {},
     "output_type": "execute_result"
    }
   ],
   "source": [
    "len(new_df) - len(data)"
   ]
  }
 ],
 "metadata": {
  "kernelspec": {
   "display_name": "Python 3",
   "language": "python",
   "name": "python3"
  },
  "language_info": {
   "codemirror_mode": {
    "name": "ipython",
    "version": 3
   },
   "file_extension": ".py",
   "mimetype": "text/x-python",
   "name": "python",
   "nbconvert_exporter": "python",
   "pygments_lexer": "ipython3",
   "version": "3.12.9"
  }
 },
 "nbformat": 4,
 "nbformat_minor": 2
}
