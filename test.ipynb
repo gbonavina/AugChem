{
 "cells": [
  {
   "cell_type": "code",
   "execution_count": 9,
   "metadata": {},
   "outputs": [
    {
     "data": {
      "application/vnd.microsoft.datawrangler.viewer.v0+json": {
       "columns": [
        {
         "name": "index",
         "rawType": "int64",
         "type": "integer"
        },
        {
         "name": "SMILES_1",
         "rawType": "object",
         "type": "string"
        },
        {
         "name": "SMILES_2",
         "rawType": "object",
         "type": "string"
        },
        {
         "name": "INCHI_1",
         "rawType": "object",
         "type": "string"
        },
        {
         "name": "INCHI_2",
         "rawType": "object",
         "type": "string"
        },
        {
         "name": "Property_0",
         "rawType": "float64",
         "type": "float"
        }
       ],
       "conversionMethod": "pd.DataFrame",
       "ref": "b7563404-e20a-4fb6-913f-4dd9a33d4efc",
       "rows": [
        [
         "0",
         "CCCCNC=O",
         "CCCCNC=O",
         "InChI=1S/C5H11NO/c1-2-3-4-6-5-7/h5H,2-4H2,1H3,(H,6,7)",
         "InChI=1S/C5H11NO/c1-2-3-4-6-5-7/h5H,2-4H2,1H3,(H,6,7)",
         "7.53656"
        ],
        [
         "1",
         "C#CC1CN2N=CC=C12",
         "C#C[C@H]1Cn2nccc12",
         "InChI=1S/C7H6N2/c1-2-6-5-9-7(6)3-4-8-9/h1,3-4,6H,5H2",
         "InChI=1S/C7H6N2/c1-2-6-5-9-7(6)3-4-8-9/h1,3-4,6H,5H2/t6-/m0/s1",
         "4.26566"
        ],
        [
         "2",
         "CC12CC1(O)CCOC2",
         "C[C@@]12C[C@]1(O)CCOC2",
         "InChI=1S/C7H12O2/c1-6-4-7(6,8)2-3-9-5-6/h8H,2-5H2,1H3",
         "InChI=1S/C7H12O2/c1-6-4-7(6,8)2-3-9-5-6/h8H,2-5H2,1H3/t6-,7+/m0/s1",
         "2.31892"
        ],
        [
         "3",
         "CC1(CO)OC2CNC12",
         "C[C@@]1(CO)O[C@H]2CN[C@@H]12",
         "InChI=1S/C6H11NO2/c1-6(3-8)5-4(9-6)2-7-5/h4-5,7-8H,2-3H2,1H3",
         "InChI=1S/C6H11NO2/c1-6(3-8)5-4(9-6)2-7-5/h4-5,7-8H,2-3H2,1H3/t4-,5+,6-/m0/s1",
         "3.38968"
        ],
        [
         "4",
         "O=C1CCC11COCO1",
         "O=C1CC[C@]21COCO2",
         "InChI=1S/C6H8O3/c7-5-1-2-6(5)3-8-4-9-6/h1-4H2",
         "InChI=1S/C6H8O3/c7-5-1-2-6(5)3-8-4-9-6/h1-4H2/t6-/m1/s1",
         "3.07477"
        ],
        [
         "5",
         "OC1COC1=N",
         "O[C@H]1CO[C]1[NH]",
         "InChI=1S/C3H5NO2/c4-3-2(5)1-6-3/h2,4-5H,1H2",
         "InChI=1S/C3H5NO2/c4-3-2(5)1-6-3/h2,4-5H,1H2/t2-/m0/s1",
         "5.38555"
        ],
        [
         "6",
         "CC#CC12CC(O1)C2O",
         "CC#C[C@@]12C[C@@H](O1)[C@H]2O",
         "InChI=1S/C7H8O2/c1-2-3-7-4-5(9-7)6(7)8/h5-6,8H,4H2,1H3",
         "InChI=1S/C7H8O2/c1-2-3-7-4-5(9-7)6(7)8/h5-6,8H,4H2,1H3/t5-,6-,7+/m1/s1",
         "3.28179"
        ],
        [
         "7",
         "OC1C2CC1C(C2)C=O",
         "O[C@H]1[C@H]2C[C@@H]1[C@@H](C2)C=O",
         "InChI=1S/C7H10O2/c8-3-5-1-4-2-6(5)7(4)9/h3-7,9H,1-2H2",
         "InChI=1S/C7H10O2/c8-3-5-1-4-2-6(5)7(4)9/h3-7,9H,1-2H2/t4-,5+,6-,7+/m1/s1",
         "3.97726"
        ],
        [
         "8",
         "CN1N=CN=C(N)C1=O",
         "Cn1ncnc(N)c1=O",
         "InChI=1S/C4H6N4O/c1-8-4(9)3(5)6-2-7-8/h2H,1H3,(H2,5,6,7)",
         "InChI=1S/C4H6N4O/c1-8-4(9)3(5)6-2-7-8/h2H,1H3,(H2,5,6,7)",
         "2.57126"
        ],
        [
         "9",
         "CCC(C)(C)C(=O)NC",
         "CCC(C)(C)C(=O)NC",
         "InChI=1S/C7H15NO/c1-5-7(2,3)6(9)8-4/h5H2,1-4H3,(H,8,9)",
         "InChI=1S/C7H15NO/c1-5-7(2,3)6(9)8-4/h5H2,1-4H3,(H,8,9)",
         "2.92372"
        ],
        [
         "10",
         "O=C1NCC23CC(O2)C13",
         "O=C1NC[C@@]23C[C@@H](O2)[C@@H]13",
         "InChI=1S/C6H7NO2/c8-5-4-3-1-6(4,9-3)2-7-5/h3-4H,1-2H2,(H,7,8)",
         "InChI=1S/C6H7NO2/c8-5-4-3-1-6(4,9-3)2-7-5/h3-4H,1-2H2,(H,7,8)/t3-,4+,6-/m1/s1",
         "3.23746"
        ],
        [
         "11",
         "OCC12C(O)C3C1OC23",
         "OC[C@@]12[C@@H](O)[C@H]3[C@@H]1O[C@@H]23",
         "InChI=1S/C6H8O3/c7-1-6-3(8)2-4(6)9-5(2)6/h2-5,7-8H,1H2",
         "InChI=1S/C6H8O3/c7-1-6-3(8)2-4(6)9-5(2)6/h2-5,7-8H,1H2/t2-,3-,4-,5+,6+/m0/s1",
         "2.45698"
        ],
        [
         "12",
         "OCC(=O)C1C2COC12",
         "OCC(=O)[C@H]1[C@H]2CO[C@@H]12",
         "InChI=1S/C6H8O3/c7-1-4(8)5-3-2-9-6(3)5/h3,5-7H,1-2H2",
         "InChI=1S/C6H8O3/c7-1-4(8)5-3-2-9-6(3)5/h3,5-7H,1-2H2/t3-,5-,6-/m1/s1",
         "4.16984"
        ],
        [
         "13",
         "CC12C(O)C1C(O)C2O",
         "C[C@]12[C@@H](O)[C@H]1[C@@H](O)[C@H]2O",
         "InChI=1S/C6H10O3/c1-6-2(4(6)8)3(7)5(6)9/h2-5,7-9H,1H3",
         "InChI=1S/C6H10O3/c1-6-2(4(6)8)3(7)5(6)9/h2-5,7-9H,1H3/t2-,3-,4+,5-,6-/m1/s1",
         "2.30509"
        ],
        [
         "14",
         "CC1NC(=O)C1N1CC1",
         "C[C@H]1NC(=O)[C@H]1N1CC1",
         "InChI=1S/C6H10N2O/c1-4-5(6(9)7-4)8-2-3-8/h4-5H,2-3H2,1H3,(H,7,9)",
         "InChI=1S/C6H10N2O/c1-4-5(6(9)7-4)8-2-3-8/h4-5H,2-3H2,1H3,(H,7,9)/t4-,5+/m1/s1",
         "2.22011"
        ],
        [
         "15",
         "COC=NC1=NC=CN1",
         "COC=Nc1ncc[nH]1",
         "InChI=1S/C5H7N3O/c1-9-4-8-5-6-2-3-7-5/h2-4H,1H3,(H,6,7)",
         "InChI=1S/C5H7N3O/c1-9-4-8-5-6-2-3-7-5/h2-4H,1H3,(H,6,7)",
         "6.86479"
        ],
        [
         "16",
         "CC1=C(C=O)C(=O)OC1",
         "CC1=C(C=O)C(=O)OC1",
         "InChI=1S/C6H6O3/c1-4-3-9-6(8)5(4)2-7/h2H,3H2,1H3",
         "InChI=1S/C6H6O3/c1-4-3-9-6(8)5(4)2-7/h2H,3H2,1H3",
         "2.27992"
        ],
        [
         "17",
         "CCC1=CN=CC(O)=C1",
         "CCc1cncc(O)c1",
         "InChI=1S/C7H9NO/c1-2-6-3-7(9)5-8-4-6/h3-5,9H,2H2,1H3",
         "InChI=1S/C7H9NO/c1-2-6-3-7(9)5-8-4-6/h3-5,9H,2H2,1H3",
         "3.01334"
        ],
        [
         "18",
         "CC12CC1(CCO)CO2",
         "C[C@@]12C[C@]1(CCO)CO2",
         "InChI=1S/C7H12O2/c1-6-4-7(6,2-3-8)5-9-6/h8H,2-5H2,1H3",
         "InChI=1S/C7H12O2/c1-6-4-7(6,2-3-8)5-9-6/h8H,2-5H2,1H3/t6-,7-/m1/s1",
         "3.32827"
        ],
        [
         "19",
         "O=CCC(=O)CC1CN1",
         "O=CCC(=O)C[C@H]1CN1",
         "InChI=1S/C6H9NO2/c8-2-1-6(9)3-5-4-7-5/h2,5,7H,1,3-4H2",
         "InChI=1S/C6H9NO2/c8-2-1-6(9)3-5-4-7-5/h2,5,7H,1,3-4H2/t5-/m0/s1",
         "3.33972"
        ],
        [
         "20",
         "CC(=O)C1(CO1)C1CN1",
         "CC(=O)[C@]1(CO1)[C@H]1CN1",
         "InChI=1S/C6H9NO2/c1-4(8)6(3-9-6)5-2-7-5/h5,7H,2-3H2,1H3",
         "InChI=1S/C6H9NO2/c1-4(8)6(3-9-6)5-2-7-5/h5,7H,2-3H2,1H3/t5-,6-/m1/s1",
         "2.70126"
        ],
        [
         "21",
         "O=C1CCCOC(=O)N1",
         "O=C1CCCOC(=O)N1",
         "InChI=1S/C5H7NO3/c7-4-2-1-3-9-5(8)6-4/h1-3H2,(H,6,7,8)",
         "InChI=1S/C5H7NO3/c7-4-2-1-3-9-5(8)6-4/h1-3H2,(H,6,7,8)",
         "2.32659"
        ],
        [
         "22",
         "CCCN1C=NC(O)=C1",
         "CCCn1cnc(O)c1",
         "InChI=1S/C6H10N2O/c1-2-3-8-4-6(9)7-5-8/h4-5,9H,2-3H2,1H3",
         "InChI=1S/C6H10N2O/c1-2-3-8-4-6(9)7-5-8/h4-5,9H,2-3H2,1H3",
         "4.97265"
        ],
        [
         "23",
         "CC12OC1C1(C)CC2C1",
         "C[C@]12O[C@H]1[C@@]1(C)C[C@@H]2C1",
         "InChI=1S/C8H12O/c1-7-3-5(4-7)8(2)6(7)9-8/h5-6H,3-4H2,1-2H3",
         "InChI=1S/C8H12O/c1-7-3-5(4-7)8(2)6(7)9-8/h5-6H,3-4H2,1-2H3/t5-,6-,7+,8+/m0/s1",
         "3.06578"
        ],
        [
         "24",
         "NC(=O)N1C=NNC1=N",
         "NC(=O)N1C=NN[C@@H]1[NH]",
         "InChI=1S/C3H5N5O/c4-2-7-6-1-8(2)3(5)9/h1H,(H2,4,7)(H2,5,9)",
         "InChI=1S/C3H6N5O/c4-2-7-6-1-8(2)3(5)9/h1-2,4,7H,(H2,5,9)/t2-/m0/s1",
         "2.9248"
        ],
        [
         "25",
         "COC(C)(C)CC(C)C",
         "COC(C)(C)CC(C)C",
         "InChI=1S/C8H18O/c1-7(2)6-8(3,4)9-5/h7H,6H2,1-5H3",
         "InChI=1S/C8H18O/c1-7(2)6-8(3,4)9-5/h7H,6H2,1-5H3",
         "2.38382"
        ],
        [
         "26",
         "CC1CNC(=O)N1C",
         "C[C@H]1CNC(=O)N1C",
         "InChI=1S/C5H10N2O/c1-4-3-6-5(8)7(4)2/h4H,3H2,1-2H3,(H,6,8)",
         "InChI=1S/C5H10N2O/c1-4-3-6-5(8)7(4)2/h4H,3H2,1-2H3,(H,6,8)/t4-/m0/s1",
         "2.84701"
        ],
        [
         "27",
         "OCC1(CC(O)C1)C#N",
         "OC[C@]1(C[C@@H](O)C1)C#N",
         "InChI=1S/C6H9NO2/c7-3-6(4-8)1-5(9)2-6/h5,8-9H,1-2,4H2",
         "InChI=1S/C6H9NO2/c7-3-6(4-8)1-5(9)2-6/h5,8-9H,1-2,4H2/t5-,6+",
         "2.48669"
        ],
        [
         "28",
         "C1C2OC1C1=C2NN=N1",
         "C1[C@H]2O[C@@H]1c1c2[nH]nn1",
         "InChI=1S/C5H5N3O/c1-2-4-5(3(1)9-2)7-8-6-4/h2-3H,1H2,(H,6,7,8)",
         "InChI=1S/C5H5N3O/c1-2-4-5(3(1)9-2)7-8-6-4/h2-3H,1H2,(H,6,7,8)/t2-,3+",
         "4.35901"
        ],
        [
         "29",
         "CC12CC(O)C(O1)C=C2",
         "C[C@@]12C[C@@H](O)[C@@H](O1)C=C2",
         "InChI=1S/C7H10O2/c1-7-3-2-6(9-7)5(8)4-7/h2-3,5-6,8H,4H2,1H3",
         "InChI=1S/C7H10O2/c1-7-3-2-6(9-7)5(8)4-7/h2-3,5-6,8H,4H2,1H3/t5-,6+,7-/m1/s1",
         "2.69836"
        ],
        [
         "30",
         "CCC#CC1(C)COC1",
         "CCC#CC1(C)COC1",
         "InChI=1S/C8H12O/c1-3-4-5-8(2)6-9-7-8/h3,6-7H2,1-2H3",
         "InChI=1S/C8H12O/c1-3-4-5-8(2)6-9-7-8/h3,6-7H2,1-2H3",
         "3.56721"
        ],
        [
         "31",
         "CCC12CN3C(C13)C2=O",
         "CC[C@]12CN3[C@H]([C@@H]13)C2=O",
         "InChI=1S/C7H9NO/c1-2-7-3-8-4(5(7)8)6(7)9/h4-5H,2-3H2,1H3",
         "InChI=1S/C7H9NO/c1-2-7-3-8-4(5(7)8)6(7)9/h4-5H,2-3H2,1H3/t4-,5+,7+,8?/m1/s1",
         "2.74206"
        ],
        [
         "32",
         "COC1CC(C)C(C)C1",
         "CO[C@H]1C[C@@H](C)[C@@H](C)C1",
         "InChI=1S/C8H16O/c1-6-4-8(9-3)5-7(6)2/h6-8H,4-5H2,1-3H3",
         "InChI=1S/C8H16O/c1-6-4-8(9-3)5-7(6)2/h6-8H,4-5H2,1-3H3/t6-,7+,8+",
         "2.76546"
        ],
        [
         "33",
         "OC1CC=C2CCC12",
         "O[C@H]1C[CH][C]2CC[C@@H]12",
         "InChI=1S/C7H10O/c8-7-4-2-5-1-3-6(5)7/h2,6-8H,1,3-4H2",
         "InChI=1S/C7H10O/c8-7-4-2-5-1-3-6(5)7/h2,6-8H,1,3-4H2/t6-,7+/m1/s1",
         "3.3705"
        ],
        [
         "34",
         "CC(O)(C#N)C(O)C=O",
         "C[C@@](O)(C#N)[C@@H](O)C=O",
         "InChI=1S/C5H7NO3/c1-5(9,3-6)4(8)2-7/h2,4,8-9H,1H3",
         "InChI=1S/C5H7NO3/c1-5(9,3-6)4(8)2-7/h2,4,8-9H,1H3/t4-,5+/m0/s1",
         "2.75593"
        ],
        [
         "35",
         "CC1(C)CCC2(O)CC12",
         "CC1(C)CC[C@@]2(O)C[C@@H]12",
         "InChI=1S/C8H14O/c1-7(2)3-4-8(9)5-6(7)8/h6,9H,3-5H2,1-2H3",
         "InChI=1S/C8H14O/c1-7(2)3-4-8(9)5-6(7)8/h6,9H,3-5H2,1-2H3/t6-,8+/m0/s1",
         "2.69079"
        ],
        [
         "36",
         "CC1OC11C(C)CC1O",
         "C[C@H]1O[C@]21[C@@H](C)C[C@H]2O",
         "InChI=1S/C7H12O2/c1-4-3-6(8)7(4)5(2)9-7/h4-6,8H,3H2,1-2H3",
         "InChI=1S/C7H12O2/c1-4-3-6(8)7(4)5(2)9-7/h4-6,8H,3H2,1-2H3/t4-,5+,6+,7-/m0/s1",
         "1.95697"
        ],
        [
         "37",
         "CC1=CC2(CC2)CC1O",
         "CC1=CC2(CC2)C[C@H]1O",
         "InChI=1S/C8H12O/c1-6-4-8(2-3-8)5-7(6)9/h4,7,9H,2-3,5H2,1H3",
         "InChI=1S/C8H12O/c1-6-4-8(2-3-8)5-7(6)9/h4,7,9H,2-3,5H2,1H3/t7-/m1/s1",
         "2.85531"
        ],
        [
         "38",
         "C1OC2=NCCOCC12",
         "C1OC2=NCCOC[C@@H]12",
         "InChI=1S/C6H9NO2/c1-2-8-3-5-4-9-6(5)7-1/h5H,1-4H2",
         "InChI=1S/C6H9NO2/c1-2-8-3-5-4-9-6(5)7-1/h5H,1-4H2/t5-/m0/s1",
         "2.83885"
        ],
        [
         "39",
         "N=C1OCC2NC12C=O",
         "[NH][C]1OC[C@H]2N[C@@]12C=O",
         "InChI=1S/C5H6N2O2/c6-4-5(2-8)3(7-5)1-9-4/h2-3,6-7H,1H2",
         "InChI=1S/C5H6N2O2/c6-4-5(2-8)3(7-5)1-9-4/h2-3,6-7H,1H2/t3-,5-/m1/s1",
         "2.78513"
        ],
        [
         "40",
         "OC1=NNN=C1OC=N",
         "Oc1n[nH]nc1O[CH][NH]",
         "InChI=1S/C3H4N4O2/c4-1-9-3-2(8)5-7-6-3/h1,4H,(H2,5,6,7,8)",
         "InChI=1S/C3H4N4O2/c4-1-9-3-2(8)5-7-6-3/h1,4H,(H2,5,6,7,8)",
         "3.58641"
        ],
        [
         "41",
         "CC1(CC2CCN12)C#N",
         "C[C@]1(C[C@H]2CCN12)C#N",
         "InChI=1S/C7H10N2/c1-7(5-8)4-6-2-3-9(6)7/h6H,2-4H2,1H3",
         "InChI=1S/C7H10N2/c1-7(5-8)4-6-2-3-9(6)7/h6H,2-4H2,1H3/t6-,7+/m1/s1",
         "3.23007"
        ],
        [
         "42",
         "CC(C=O)C1(CN1)C#C",
         "C[C@@H](C=O)[C@]1(CN1)C#C",
         "InChI=1S/C7H9NO/c1-3-7(5-8-7)6(2)4-9/h1,4,6,8H,5H2,2H3",
         "InChI=1S/C7H9NO/c1-3-7(5-8-7)6(2)4-9/h1,4,6,8H,5H2,2H3/t6-,7+/m0/s1",
         "2.55039"
        ],
        [
         "43",
         "CC1(O)CCC2CC1C2",
         "C[C@@]1(O)CC[C@@H]2C[C@H]1C2",
         "InChI=1S/C8H14O/c1-8(9)3-2-6-4-7(8)5-6/h6-7,9H,2-5H2,1H3",
         "InChI=1S/C8H14O/c1-8(9)3-2-6-4-7(8)5-6/h6-7,9H,2-5H2,1H3/t6-,7+,8-/m1/s1",
         "2.50583"
        ],
        [
         "44",
         "C1CN1C1=NC=NC=N1",
         "C1CN1c1ncncn1",
         "InChI=1S/C5H6N4/c1-2-9(1)5-7-3-6-4-8-5/h3-4H,1-2H2",
         "InChI=1S/C5H6N4/c1-2-9(1)5-7-3-6-4-8-5/h3-4H,1-2H2",
         "4.70008"
        ],
        [
         "45",
         "N=C1OCC(=O)OC1=N",
         "[NH][C]1OCC(=O)O[C]1[NH]",
         "InChI=1S/C4H4N2O3/c5-3-4(6)9-2(7)1-8-3/h5-6H,1H2",
         "InChI=1S/C4H4N2O3/c5-3-4(6)9-2(7)1-8-3/h5-6H,1H2",
         "2.98841"
        ],
        [
         "46",
         "N=C1OC2(CC2)C1C#N",
         "[NH][C]1OC2(CC2)[C@H]1C#N",
         "InChI=1S/C6H6N2O/c7-3-4-5(8)9-6(4)1-2-6/h4,8H,1-2H2",
         "InChI=1S/C6H6N2O/c7-3-4-5(8)9-6(4)1-2-6/h4,8H,1-2H2/t4-/m0/s1",
         "2.10508"
        ],
        [
         "47",
         "NC1=NC(F)=CNC1=O",
         "Nc1nc(F)c[nH]c1=O",
         "InChI=1S/C4H4FN3O/c5-2-1-7-4(9)3(6)8-2/h1H,(H2,6,8)(H,7,9)",
         "InChI=1S/C4H4FN3O/c5-2-1-7-4(9)3(6)8-2/h1H,(H2,6,8)(H,7,9)",
         "3.21425"
        ],
        [
         "48",
         "CC1C2CC(C2)NC1=O",
         "C[C@H]1[C@@H]2C[C@@H](C2)NC1=O",
         "InChI=1S/C7H11NO/c1-4-5-2-6(3-5)8-7(4)9/h4-6H,2-3H2,1H3,(H,8,9)",
         "InChI=1S/C7H11NO/c1-4-5-2-6(3-5)8-7(4)9/h4-6H,2-3H2,1H3,(H,8,9)/t4-,5-,6+/m0/s1",
         "2.53445"
        ],
        [
         "49",
         "CC(OCCO)C1CO1",
         "C[C@@H](OCCO)[C@H]1CO1",
         "InChI=1S/C6H12O3/c1-5(6-4-9-6)8-3-2-7/h5-7H,2-4H2,1H3",
         "InChI=1S/C6H12O3/c1-5(6-4-9-6)8-3-2-7/h5-7H,2-4H2,1H3/t5-,6-/m1/s1",
         "2.5562"
        ]
       ],
       "shape": {
        "columns": 5,
        "rows": 133885
       }
      },
      "text/html": [
       "<div>\n",
       "<style scoped>\n",
       "    .dataframe tbody tr th:only-of-type {\n",
       "        vertical-align: middle;\n",
       "    }\n",
       "\n",
       "    .dataframe tbody tr th {\n",
       "        vertical-align: top;\n",
       "    }\n",
       "\n",
       "    .dataframe thead th {\n",
       "        text-align: right;\n",
       "    }\n",
       "</style>\n",
       "<table border=\"1\" class=\"dataframe\">\n",
       "  <thead>\n",
       "    <tr style=\"text-align: right;\">\n",
       "      <th></th>\n",
       "      <th>SMILES_1</th>\n",
       "      <th>SMILES_2</th>\n",
       "      <th>INCHI_1</th>\n",
       "      <th>INCHI_2</th>\n",
       "      <th>Property_0</th>\n",
       "    </tr>\n",
       "  </thead>\n",
       "  <tbody>\n",
       "    <tr>\n",
       "      <th>0</th>\n",
       "      <td>CCCCNC=O</td>\n",
       "      <td>CCCCNC=O</td>\n",
       "      <td>InChI=1S/C5H11NO/c1-2-3-4-6-5-7/h5H,2-4H2,1H3,...</td>\n",
       "      <td>InChI=1S/C5H11NO/c1-2-3-4-6-5-7/h5H,2-4H2,1H3,...</td>\n",
       "      <td>7.53656</td>\n",
       "    </tr>\n",
       "    <tr>\n",
       "      <th>1</th>\n",
       "      <td>C#CC1CN2N=CC=C12</td>\n",
       "      <td>C#C[C@H]1Cn2nccc12</td>\n",
       "      <td>InChI=1S/C7H6N2/c1-2-6-5-9-7(6)3-4-8-9/h1,3-4,...</td>\n",
       "      <td>InChI=1S/C7H6N2/c1-2-6-5-9-7(6)3-4-8-9/h1,3-4,...</td>\n",
       "      <td>4.26566</td>\n",
       "    </tr>\n",
       "    <tr>\n",
       "      <th>2</th>\n",
       "      <td>CC12CC1(O)CCOC2</td>\n",
       "      <td>C[C@@]12C[C@]1(O)CCOC2</td>\n",
       "      <td>InChI=1S/C7H12O2/c1-6-4-7(6,8)2-3-9-5-6/h8H,2-...</td>\n",
       "      <td>InChI=1S/C7H12O2/c1-6-4-7(6,8)2-3-9-5-6/h8H,2-...</td>\n",
       "      <td>2.31892</td>\n",
       "    </tr>\n",
       "    <tr>\n",
       "      <th>3</th>\n",
       "      <td>CC1(CO)OC2CNC12</td>\n",
       "      <td>C[C@@]1(CO)O[C@H]2CN[C@@H]12</td>\n",
       "      <td>InChI=1S/C6H11NO2/c1-6(3-8)5-4(9-6)2-7-5/h4-5,...</td>\n",
       "      <td>InChI=1S/C6H11NO2/c1-6(3-8)5-4(9-6)2-7-5/h4-5,...</td>\n",
       "      <td>3.38968</td>\n",
       "    </tr>\n",
       "    <tr>\n",
       "      <th>4</th>\n",
       "      <td>O=C1CCC11COCO1</td>\n",
       "      <td>O=C1CC[C@]21COCO2</td>\n",
       "      <td>InChI=1S/C6H8O3/c7-5-1-2-6(5)3-8-4-9-6/h1-4H2</td>\n",
       "      <td>InChI=1S/C6H8O3/c7-5-1-2-6(5)3-8-4-9-6/h1-4H2/...</td>\n",
       "      <td>3.07477</td>\n",
       "    </tr>\n",
       "    <tr>\n",
       "      <th>...</th>\n",
       "      <td>...</td>\n",
       "      <td>...</td>\n",
       "      <td>...</td>\n",
       "      <td>...</td>\n",
       "      <td>...</td>\n",
       "    </tr>\n",
       "    <tr>\n",
       "      <th>133880</th>\n",
       "      <td>CC(=N)NC1=CON=C1</td>\n",
       "      <td>CC(=N)Nc1conc1</td>\n",
       "      <td>InChI=1S/C5H7N3O/c1-4(6)8-5-2-7-9-3-5/h2-3H,1H...</td>\n",
       "      <td>InChI=1S/C5H7N3O/c1-4(6)8-5-2-7-9-3-5/h2-3H,1H...</td>\n",
       "      <td>4.96092</td>\n",
       "    </tr>\n",
       "    <tr>\n",
       "      <th>133881</th>\n",
       "      <td>CC1C2C3C=CC2(C)N13</td>\n",
       "      <td>C[C@H]1[C@H]2[C@@H]3C=C[C@@]2(C)N13</td>\n",
       "      <td>InChI=1S/C8H11N/c1-5-7-6-3-4-8(7,2)9(5)6/h3-7H...</td>\n",
       "      <td>InChI=1S/C8H11N/c1-5-7-6-3-4-8(7,2)9(5)6/h3-7H...</td>\n",
       "      <td>2.91016</td>\n",
       "    </tr>\n",
       "    <tr>\n",
       "      <th>133882</th>\n",
       "      <td>CCC1CN1C(=N)C#N</td>\n",
       "      <td>CC[C@H]1CN1[C]([NH])C#N</td>\n",
       "      <td>InChI=1S/C6H9N3/c1-2-5-4-9(5)6(8)3-7/h5,8H,2,4...</td>\n",
       "      <td>InChI=1S/C6H9N3/c1-2-5-4-9(5)6(8)3-7/h5,8H,2,4...</td>\n",
       "      <td>1.96576</td>\n",
       "    </tr>\n",
       "    <tr>\n",
       "      <th>133883</th>\n",
       "      <td>CNC(C)C1=NC=NO1</td>\n",
       "      <td>CN[C@@H](C)c1ncno1</td>\n",
       "      <td>InChI=1S/C5H9N3O/c1-4(6-2)5-7-3-8-9-5/h3-4,6H,...</td>\n",
       "      <td>InChI=1S/C5H9N3O/c1-4(6-2)5-7-3-8-9-5/h3-4,6H,...</td>\n",
       "      <td>3.78678</td>\n",
       "    </tr>\n",
       "    <tr>\n",
       "      <th>133884</th>\n",
       "      <td>OC1(C#C)C2C3NC3C12</td>\n",
       "      <td>O[C@@]1(C#C)[C@H]2[C@H]3N[C@H]3[C@@H]12</td>\n",
       "      <td>InChI=1S/C7H7NO/c1-2-7(9)3-4(7)6-5(3)8-6/h1,3-...</td>\n",
       "      <td>InChI=1S/C7H7NO/c1-2-7(9)3-4(7)6-5(3)8-6/h1,3-...</td>\n",
       "      <td>4.21766</td>\n",
       "    </tr>\n",
       "  </tbody>\n",
       "</table>\n",
       "<p>133885 rows × 5 columns</p>\n",
       "</div>"
      ],
      "text/plain": [
       "                  SMILES_1                                 SMILES_2  \\\n",
       "0                 CCCCNC=O                                 CCCCNC=O   \n",
       "1         C#CC1CN2N=CC=C12                       C#C[C@H]1Cn2nccc12   \n",
       "2          CC12CC1(O)CCOC2                   C[C@@]12C[C@]1(O)CCOC2   \n",
       "3          CC1(CO)OC2CNC12             C[C@@]1(CO)O[C@H]2CN[C@@H]12   \n",
       "4           O=C1CCC11COCO1                        O=C1CC[C@]21COCO2   \n",
       "...                    ...                                      ...   \n",
       "133880    CC(=N)NC1=CON=C1                           CC(=N)Nc1conc1   \n",
       "133881  CC1C2C3C=CC2(C)N13      C[C@H]1[C@H]2[C@@H]3C=C[C@@]2(C)N13   \n",
       "133882     CCC1CN1C(=N)C#N                  CC[C@H]1CN1[C]([NH])C#N   \n",
       "133883     CNC(C)C1=NC=NO1                       CN[C@@H](C)c1ncno1   \n",
       "133884  OC1(C#C)C2C3NC3C12  O[C@@]1(C#C)[C@H]2[C@H]3N[C@H]3[C@@H]12   \n",
       "\n",
       "                                                  INCHI_1  \\\n",
       "0       InChI=1S/C5H11NO/c1-2-3-4-6-5-7/h5H,2-4H2,1H3,...   \n",
       "1       InChI=1S/C7H6N2/c1-2-6-5-9-7(6)3-4-8-9/h1,3-4,...   \n",
       "2       InChI=1S/C7H12O2/c1-6-4-7(6,8)2-3-9-5-6/h8H,2-...   \n",
       "3       InChI=1S/C6H11NO2/c1-6(3-8)5-4(9-6)2-7-5/h4-5,...   \n",
       "4           InChI=1S/C6H8O3/c7-5-1-2-6(5)3-8-4-9-6/h1-4H2   \n",
       "...                                                   ...   \n",
       "133880  InChI=1S/C5H7N3O/c1-4(6)8-5-2-7-9-3-5/h2-3H,1H...   \n",
       "133881  InChI=1S/C8H11N/c1-5-7-6-3-4-8(7,2)9(5)6/h3-7H...   \n",
       "133882  InChI=1S/C6H9N3/c1-2-5-4-9(5)6(8)3-7/h5,8H,2,4...   \n",
       "133883  InChI=1S/C5H9N3O/c1-4(6-2)5-7-3-8-9-5/h3-4,6H,...   \n",
       "133884  InChI=1S/C7H7NO/c1-2-7(9)3-4(7)6-5(3)8-6/h1,3-...   \n",
       "\n",
       "                                                  INCHI_2  Property_0  \n",
       "0       InChI=1S/C5H11NO/c1-2-3-4-6-5-7/h5H,2-4H2,1H3,...     7.53656  \n",
       "1       InChI=1S/C7H6N2/c1-2-6-5-9-7(6)3-4-8-9/h1,3-4,...     4.26566  \n",
       "2       InChI=1S/C7H12O2/c1-6-4-7(6,8)2-3-9-5-6/h8H,2-...     2.31892  \n",
       "3       InChI=1S/C6H11NO2/c1-6(3-8)5-4(9-6)2-7-5/h4-5,...     3.38968  \n",
       "4       InChI=1S/C6H8O3/c7-5-1-2-6(5)3-8-4-9-6/h1-4H2/...     3.07477  \n",
       "...                                                   ...         ...  \n",
       "133880  InChI=1S/C5H7N3O/c1-4(6)8-5-2-7-9-3-5/h2-3H,1H...     4.96092  \n",
       "133881  InChI=1S/C8H11N/c1-5-7-6-3-4-8(7,2)9(5)6/h3-7H...     2.91016  \n",
       "133882  InChI=1S/C6H9N3/c1-2-5-4-9(5)6(8)3-7/h5,8H,2,4...     1.96576  \n",
       "133883  InChI=1S/C5H9N3O/c1-4(6-2)5-7-3-8-9-5/h3-4,6H,...     3.78678  \n",
       "133884  InChI=1S/C7H7NO/c1-2-7(9)3-4(7)6-5(3)8-6/h1,3-...     4.21766  \n",
       "\n",
       "[133885 rows x 5 columns]"
      ]
     },
     "execution_count": 9,
     "metadata": {},
     "output_type": "execute_result"
    }
   ],
   "source": [
    "from augchem import Augmentator\n",
    "import pandas as pd\n",
    "\n",
    "data = pd.read_csv(\"QM9.csv\", index_col=0)\n",
    "data"
   ]
  },
  {
   "cell_type": "code",
   "execution_count": 10,
   "metadata": {},
   "outputs": [
    {
     "name": "stdout",
     "output_type": "stream",
     "text": [
      "Generated new 26755 SMILES\n"
     ]
    },
    {
     "data": {
      "application/vnd.microsoft.datawrangler.viewer.v0+json": {
       "columns": [
        {
         "name": "index",
         "rawType": "int64",
         "type": "integer"
        },
        {
         "name": "SMILES_1",
         "rawType": "object",
         "type": "string"
        },
        {
         "name": "Property_0",
         "rawType": "object",
         "type": "unknown"
        },
        {
         "name": "parent_idx",
         "rawType": "float64",
         "type": "float"
        }
       ],
       "conversionMethod": "pd.DataFrame",
       "ref": "5d7e27fe-6fb2-4c79-be29-42d2e99c4b69",
       "rows": [
        [
         "0",
         "CCCCNC=O",
         "7.53656",
         null
        ],
        [
         "1",
         "C#CC1CN2N=CC=C12",
         "4.26566",
         null
        ],
        [
         "2",
         "CC12CC1(O)CCOC2",
         "2.31892",
         null
        ],
        [
         "3",
         "CC1(CO)OC2CNC12",
         "3.38968",
         null
        ],
        [
         "4",
         "O=C1CCC11COCO1",
         "3.07477",
         null
        ]
       ],
       "shape": {
        "columns": 3,
        "rows": 5
       }
      },
      "text/html": [
       "<div>\n",
       "<style scoped>\n",
       "    .dataframe tbody tr th:only-of-type {\n",
       "        vertical-align: middle;\n",
       "    }\n",
       "\n",
       "    .dataframe tbody tr th {\n",
       "        vertical-align: top;\n",
       "    }\n",
       "\n",
       "    .dataframe thead th {\n",
       "        text-align: right;\n",
       "    }\n",
       "</style>\n",
       "<table border=\"1\" class=\"dataframe\">\n",
       "  <thead>\n",
       "    <tr style=\"text-align: right;\">\n",
       "      <th></th>\n",
       "      <th>SMILES_1</th>\n",
       "      <th>Property_0</th>\n",
       "      <th>parent_idx</th>\n",
       "    </tr>\n",
       "  </thead>\n",
       "  <tbody>\n",
       "    <tr>\n",
       "      <th>0</th>\n",
       "      <td>CCCCNC=O</td>\n",
       "      <td>7.53656</td>\n",
       "      <td>NaN</td>\n",
       "    </tr>\n",
       "    <tr>\n",
       "      <th>1</th>\n",
       "      <td>C#CC1CN2N=CC=C12</td>\n",
       "      <td>4.26566</td>\n",
       "      <td>NaN</td>\n",
       "    </tr>\n",
       "    <tr>\n",
       "      <th>2</th>\n",
       "      <td>CC12CC1(O)CCOC2</td>\n",
       "      <td>2.31892</td>\n",
       "      <td>NaN</td>\n",
       "    </tr>\n",
       "    <tr>\n",
       "      <th>3</th>\n",
       "      <td>CC1(CO)OC2CNC12</td>\n",
       "      <td>3.38968</td>\n",
       "      <td>NaN</td>\n",
       "    </tr>\n",
       "    <tr>\n",
       "      <th>4</th>\n",
       "      <td>O=C1CCC11COCO1</td>\n",
       "      <td>3.07477</td>\n",
       "      <td>NaN</td>\n",
       "    </tr>\n",
       "  </tbody>\n",
       "</table>\n",
       "</div>"
      ],
      "text/plain": [
       "           SMILES_1 Property_0  parent_idx\n",
       "0          CCCCNC=O    7.53656         NaN\n",
       "1  C#CC1CN2N=CC=C12    4.26566         NaN\n",
       "2   CC12CC1(O)CCOC2    2.31892         NaN\n",
       "3   CC1(CO)OC2CNC12    3.38968         NaN\n",
       "4    O=C1CCC11COCO1    3.07477         NaN"
      ]
     },
     "execution_count": 10,
     "metadata": {},
     "output_type": "execute_result"
    }
   ],
   "source": [
    "aug = Augmentator()\n",
    "\n",
    "new_df = aug.SMILES.augment_data(dataset=\"QM9.csv\", augmentation_methods=[\"fusion\", \"enumeration\"], col_to_augment=\"SMILES_1\", property_col = \"Property_0\", mask_ratio=0.2, num_enumeration_attempts=5)\n",
    "new_df.head()"
   ]
  },
  {
   "cell_type": "code",
   "execution_count": 11,
   "metadata": {},
   "outputs": [
    {
     "data": {
      "application/vnd.microsoft.datawrangler.viewer.v0+json": {
       "columns": [
        {
         "name": "index",
         "rawType": "int64",
         "type": "integer"
        },
        {
         "name": "SMILES_1",
         "rawType": "object",
         "type": "string"
        },
        {
         "name": "Property_0",
         "rawType": "object",
         "type": "string"
        },
        {
         "name": "parent_idx",
         "rawType": "float64",
         "type": "float"
        }
       ],
       "conversionMethod": "pd.DataFrame",
       "ref": "72a4f5e8-1be8-4f47-a84d-c506d5abac57",
       "rows": [
        [
         "160657",
         "C1(CC2(C(O)C)C1C2)C",
         "-",
         "16832.0"
        ],
        [
         "160658",
         "C1C2(C(C)O)C(C2)C1C",
         "-",
         "16832.0"
        ],
        [
         "160659",
         "C12C(C)CC2(C(C)O)C1",
         "-",
         "16832.0"
        ],
        [
         "160660",
         "C1C2C1(C(C)O)CC2C",
         "-",
         "16832.0"
        ],
        [
         "160661",
         "C12C(C(C)O)(CC2C)C1",
         "-",
         "16832.0"
        ]
       ],
       "shape": {
        "columns": 3,
        "rows": 5
       }
      },
      "text/html": [
       "<div>\n",
       "<style scoped>\n",
       "    .dataframe tbody tr th:only-of-type {\n",
       "        vertical-align: middle;\n",
       "    }\n",
       "\n",
       "    .dataframe tbody tr th {\n",
       "        vertical-align: top;\n",
       "    }\n",
       "\n",
       "    .dataframe thead th {\n",
       "        text-align: right;\n",
       "    }\n",
       "</style>\n",
       "<table border=\"1\" class=\"dataframe\">\n",
       "  <thead>\n",
       "    <tr style=\"text-align: right;\">\n",
       "      <th></th>\n",
       "      <th>SMILES_1</th>\n",
       "      <th>Property_0</th>\n",
       "      <th>parent_idx</th>\n",
       "    </tr>\n",
       "  </thead>\n",
       "  <tbody>\n",
       "    <tr>\n",
       "      <th>160657</th>\n",
       "      <td>C1(CC2(C(O)C)C1C2)C</td>\n",
       "      <td>-</td>\n",
       "      <td>16832.0</td>\n",
       "    </tr>\n",
       "    <tr>\n",
       "      <th>160658</th>\n",
       "      <td>C1C2(C(C)O)C(C2)C1C</td>\n",
       "      <td>-</td>\n",
       "      <td>16832.0</td>\n",
       "    </tr>\n",
       "    <tr>\n",
       "      <th>160659</th>\n",
       "      <td>C12C(C)CC2(C(C)O)C1</td>\n",
       "      <td>-</td>\n",
       "      <td>16832.0</td>\n",
       "    </tr>\n",
       "    <tr>\n",
       "      <th>160660</th>\n",
       "      <td>C1C2C1(C(C)O)CC2C</td>\n",
       "      <td>-</td>\n",
       "      <td>16832.0</td>\n",
       "    </tr>\n",
       "    <tr>\n",
       "      <th>160661</th>\n",
       "      <td>C12C(C(C)O)(CC2C)C1</td>\n",
       "      <td>-</td>\n",
       "      <td>16832.0</td>\n",
       "    </tr>\n",
       "  </tbody>\n",
       "</table>\n",
       "</div>"
      ],
      "text/plain": [
       "                   SMILES_1 Property_0  parent_idx\n",
       "160657  C1(CC2(C(O)C)C1C2)C          -     16832.0\n",
       "160658  C1C2(C(C)O)C(C2)C1C          -     16832.0\n",
       "160659  C12C(C)CC2(C(C)O)C1          -     16832.0\n",
       "160660    C1C2C1(C(C)O)CC2C          -     16832.0\n",
       "160661  C12C(C(C)O)(CC2C)C1          -     16832.0"
      ]
     },
     "execution_count": 11,
     "metadata": {},
     "output_type": "execute_result"
    }
   ],
   "source": [
    "new_df.tail()"
   ]
  },
  {
   "cell_type": "code",
   "execution_count": 12,
   "metadata": {},
   "outputs": [
    {
     "data": {
      "application/vnd.microsoft.datawrangler.viewer.v0+json": {
       "columns": [
        {
         "name": "index",
         "rawType": "int64",
         "type": "integer"
        },
        {
         "name": "parent_idx",
         "rawType": "float64",
         "type": "float"
        },
        {
         "name": "count",
         "rawType": "int64",
         "type": "integer"
        }
       ],
       "conversionMethod": "pd.DataFrame",
       "ref": "ed29d4d2-f70f-4cd0-b409-afe4ae1ecf67",
       "rows": [
        [
         "0",
         "26.0",
         "10"
        ],
        [
         "1",
         "67.0",
         "9"
        ],
        [
         "2",
         "78.0",
         "10"
        ],
        [
         "3",
         "137.0",
         "10"
        ],
        [
         "4",
         "223.0",
         "10"
        ],
        [
         "5",
         "228.0",
         "10"
        ],
        [
         "6",
         "598.0",
         "10"
        ],
        [
         "7",
         "614.0",
         "9"
        ],
        [
         "8",
         "637.0",
         "8"
        ],
        [
         "9",
         "650.0",
         "10"
        ],
        [
         "10",
         "740.0",
         "18"
        ],
        [
         "11",
         "807.0",
         "10"
        ],
        [
         "12",
         "817.0",
         "10"
        ],
        [
         "13",
         "894.0",
         "9"
        ],
        [
         "14",
         "925.0",
         "10"
        ],
        [
         "15",
         "961.0",
         "10"
        ],
        [
         "16",
         "1184.0",
         "8"
        ],
        [
         "17",
         "1212.0",
         "10"
        ],
        [
         "18",
         "1240.0",
         "10"
        ],
        [
         "19",
         "1310.0",
         "10"
        ],
        [
         "20",
         "1363.0",
         "7"
        ],
        [
         "21",
         "1396.0",
         "8"
        ],
        [
         "22",
         "1408.0",
         "10"
        ],
        [
         "23",
         "1447.0",
         "10"
        ],
        [
         "24",
         "1458.0",
         "10"
        ],
        [
         "25",
         "1477.0",
         "9"
        ],
        [
         "26",
         "1503.0",
         "10"
        ],
        [
         "27",
         "1555.0",
         "10"
        ],
        [
         "28",
         "1600.0",
         "8"
        ],
        [
         "29",
         "1605.0",
         "8"
        ],
        [
         "30",
         "1616.0",
         "10"
        ],
        [
         "31",
         "1685.0",
         "10"
        ],
        [
         "32",
         "1702.0",
         "10"
        ],
        [
         "33",
         "1723.0",
         "6"
        ],
        [
         "34",
         "1791.0",
         "7"
        ],
        [
         "35",
         "1823.0",
         "10"
        ],
        [
         "36",
         "1849.0",
         "9"
        ],
        [
         "37",
         "1989.0",
         "8"
        ],
        [
         "38",
         "1996.0",
         "9"
        ],
        [
         "39",
         "2017.0",
         "19"
        ],
        [
         "40",
         "2067.0",
         "10"
        ],
        [
         "41",
         "2075.0",
         "10"
        ],
        [
         "42",
         "2134.0",
         "10"
        ],
        [
         "43",
         "2224.0",
         "10"
        ],
        [
         "44",
         "2314.0",
         "8"
        ],
        [
         "45",
         "2357.0",
         "10"
        ],
        [
         "46",
         "2458.0",
         "10"
        ],
        [
         "47",
         "2477.0",
         "10"
        ],
        [
         "48",
         "2517.0",
         "10"
        ],
        [
         "49",
         "2528.0",
         "10"
        ]
       ],
       "shape": {
        "columns": 2,
        "rows": 2903
       }
      },
      "text/html": [
       "<div>\n",
       "<style scoped>\n",
       "    .dataframe tbody tr th:only-of-type {\n",
       "        vertical-align: middle;\n",
       "    }\n",
       "\n",
       "    .dataframe tbody tr th {\n",
       "        vertical-align: top;\n",
       "    }\n",
       "\n",
       "    .dataframe thead th {\n",
       "        text-align: right;\n",
       "    }\n",
       "</style>\n",
       "<table border=\"1\" class=\"dataframe\">\n",
       "  <thead>\n",
       "    <tr style=\"text-align: right;\">\n",
       "      <th></th>\n",
       "      <th>parent_idx</th>\n",
       "      <th>count</th>\n",
       "    </tr>\n",
       "  </thead>\n",
       "  <tbody>\n",
       "    <tr>\n",
       "      <th>0</th>\n",
       "      <td>26.0</td>\n",
       "      <td>10</td>\n",
       "    </tr>\n",
       "    <tr>\n",
       "      <th>1</th>\n",
       "      <td>67.0</td>\n",
       "      <td>9</td>\n",
       "    </tr>\n",
       "    <tr>\n",
       "      <th>2</th>\n",
       "      <td>78.0</td>\n",
       "      <td>10</td>\n",
       "    </tr>\n",
       "    <tr>\n",
       "      <th>3</th>\n",
       "      <td>137.0</td>\n",
       "      <td>10</td>\n",
       "    </tr>\n",
       "    <tr>\n",
       "      <th>4</th>\n",
       "      <td>223.0</td>\n",
       "      <td>10</td>\n",
       "    </tr>\n",
       "    <tr>\n",
       "      <th>...</th>\n",
       "      <td>...</td>\n",
       "      <td>...</td>\n",
       "    </tr>\n",
       "    <tr>\n",
       "      <th>2898</th>\n",
       "      <td>133780.0</td>\n",
       "      <td>10</td>\n",
       "    </tr>\n",
       "    <tr>\n",
       "      <th>2899</th>\n",
       "      <td>133802.0</td>\n",
       "      <td>9</td>\n",
       "    </tr>\n",
       "    <tr>\n",
       "      <th>2900</th>\n",
       "      <td>133836.0</td>\n",
       "      <td>10</td>\n",
       "    </tr>\n",
       "    <tr>\n",
       "      <th>2901</th>\n",
       "      <td>133865.0</td>\n",
       "      <td>10</td>\n",
       "    </tr>\n",
       "    <tr>\n",
       "      <th>2902</th>\n",
       "      <td>133880.0</td>\n",
       "      <td>10</td>\n",
       "    </tr>\n",
       "  </tbody>\n",
       "</table>\n",
       "<p>2903 rows × 2 columns</p>\n",
       "</div>"
      ],
      "text/plain": [
       "      parent_idx  count\n",
       "0           26.0     10\n",
       "1           67.0      9\n",
       "2           78.0     10\n",
       "3          137.0     10\n",
       "4          223.0     10\n",
       "...          ...    ...\n",
       "2898    133780.0     10\n",
       "2899    133802.0      9\n",
       "2900    133836.0     10\n",
       "2901    133865.0     10\n",
       "2902    133880.0     10\n",
       "\n",
       "[2903 rows x 2 columns]"
      ]
     },
     "execution_count": 12,
     "metadata": {},
     "output_type": "execute_result"
    }
   ],
   "source": [
    "grouped_counts = new_df.groupby(by=\"parent_idx\").size().reset_index(name='count')\n",
    "grouped_counts"
   ]
  },
  {
   "cell_type": "code",
   "execution_count": null,
   "metadata": {},
   "outputs": [
    {
     "data": {
      "text/plain": [
       "133885"
      ]
     },
     "execution_count": 4,
     "metadata": {},
     "output_type": "execute_result"
    }
   ],
   "source": [
    "data = pd.read_csv(\"QM9.csv\")\n",
    "len(data)"
   ]
  },
  {
   "cell_type": "code",
   "execution_count": null,
   "metadata": {},
   "outputs": [
    {
     "data": {
      "text/plain": [
       "26733"
      ]
     },
     "execution_count": 5,
     "metadata": {},
     "output_type": "execute_result"
    }
   ],
   "source": [
    "len(new_df) - len(data)"
   ]
  },
  {
   "cell_type": "markdown",
   "metadata": {},
   "source": [
    "# Testando o método individualmente"
   ]
  }
 ],
 "metadata": {
  "kernelspec": {
   "display_name": "Python 3",
   "language": "python",
   "name": "python3"
  },
  "language_info": {
   "codemirror_mode": {
    "name": "ipython",
    "version": 3
   },
   "file_extension": ".py",
   "mimetype": "text/x-python",
   "name": "python",
   "nbconvert_exporter": "python",
   "pygments_lexer": "ipython3",
   "version": "3.12.10"
  }
 },
 "nbformat": 4,
 "nbformat_minor": 2
}
